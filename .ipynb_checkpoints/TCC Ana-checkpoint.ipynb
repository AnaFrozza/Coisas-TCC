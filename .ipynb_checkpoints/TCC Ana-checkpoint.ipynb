{
 "cells": [
  {
   "cell_type": "code",
   "execution_count": 1,
   "metadata": {},
   "outputs": [
    {
     "ename": "ImportError",
     "evalue": "No module named seaborn",
     "output_type": "error",
     "traceback": [
      "\u001b[0;31m---------------------------------------------------------------------------\u001b[0m",
      "\u001b[0;31mImportError\u001b[0m                               Traceback (most recent call last)",
      "\u001b[0;32m<ipython-input-1-187a5e788a27>\u001b[0m in \u001b[0;36m<module>\u001b[0;34m()\u001b[0m\n\u001b[1;32m      1\u001b[0m \u001b[0mget_ipython\u001b[0m\u001b[0;34m(\u001b[0m\u001b[0;34m)\u001b[0m\u001b[0;34m.\u001b[0m\u001b[0mmagic\u001b[0m\u001b[0;34m(\u001b[0m\u001b[0;34mu'matplotlib inline'\u001b[0m\u001b[0;34m)\u001b[0m\u001b[0;34m\u001b[0m\u001b[0m\n\u001b[0;32m----> 2\u001b[0;31m \u001b[0;32mimport\u001b[0m \u001b[0mseaborn\u001b[0m\u001b[0;34m\u001b[0m\u001b[0m\n\u001b[0m\u001b[1;32m      3\u001b[0m \u001b[0;32mimport\u001b[0m \u001b[0mnumpy\u001b[0m\u001b[0;34m,\u001b[0m \u001b[0mscipy\u001b[0m\u001b[0;34m,\u001b[0m \u001b[0mIPython\u001b[0m\u001b[0;34m.\u001b[0m\u001b[0mdisplay\u001b[0m \u001b[0;32mas\u001b[0m \u001b[0mipd\u001b[0m\u001b[0;34m,\u001b[0m \u001b[0mmatplotlib\u001b[0m\u001b[0;34m.\u001b[0m\u001b[0mpyplot\u001b[0m \u001b[0;32mas\u001b[0m \u001b[0mplt\u001b[0m\u001b[0;34m\u001b[0m\u001b[0m\n\u001b[1;32m      4\u001b[0m \u001b[0;32mimport\u001b[0m \u001b[0mlibrosa\u001b[0m\u001b[0;34m,\u001b[0m \u001b[0mlibrosa\u001b[0m\u001b[0;34m.\u001b[0m\u001b[0mdisplay\u001b[0m\u001b[0;34m\u001b[0m\u001b[0m\n\u001b[1;32m      5\u001b[0m \u001b[0mplt\u001b[0m\u001b[0;34m.\u001b[0m\u001b[0mrcParams\u001b[0m\u001b[0;34m[\u001b[0m\u001b[0;34m'figure.figsize'\u001b[0m\u001b[0;34m]\u001b[0m \u001b[0;34m=\u001b[0m \u001b[0;34m(\u001b[0m\u001b[0;36m14\u001b[0m\u001b[0;34m,\u001b[0m \u001b[0;36m5\u001b[0m\u001b[0;34m)\u001b[0m\u001b[0;34m\u001b[0m\u001b[0m\n",
      "\u001b[0;31mImportError\u001b[0m: No module named seaborn"
     ]
    }
   ],
   "source": [
    "%matplotlib inline\n",
    "import seaborn\n",
    "import numpy, scipy, IPython.display as ipd, matplotlib.pyplot as plt\n",
    "import librosa, librosa.display\n",
    "# plt.rcParams['figure.figsize'] = (14, 5)"
   ]
  },
  {
   "cell_type": "code",
   "execution_count": null,
   "metadata": {},
   "outputs": [],
   "source": [
    "TCC"
   ]
  },
  {
   "cell_type": "code",
   "execution_count": null,
   "metadata": {},
   "outputs": [],
   "source": [
    "#Carregando o audio\n",
    "\n",
    "filename = 'guitar_simples.wav'\n",
    "x, sr = librosa.load(filename)\n",
    "\n",
    "#play no audio\n",
    "\n",
    "ipd.Audio(x, rate=sr)"
   ]
  },
  {
   "cell_type": "code",
   "execution_count": null,
   "metadata": {},
   "outputs": [],
   "source": [
    "bins_per_octave = 36\n",
    "cqt = librosa.cqt(x, sr=sr, n_bins=300, bins_per_octave=bins_per_octave)\n",
    "log_cqt = librosa.logamplitude(cqt)\n",
    "\n",
    "cqt.shape\n",
    "\n",
    "librosa.display.specshow(log_cqt, sr=sr, x_axis='time', y_axis='cqt_note', \n",
    "                         bins_per_octave=bins_per_octave)\n"
   ]
  },
  {
   "cell_type": "code",
   "execution_count": null,
   "metadata": {},
   "outputs": [],
   "source": [
    "hop_length = 100\n",
    "onset_env = librosa.onset.onset_strength(x, sr=sr, hop_length=hop_length)\n",
    "\n",
    "plt.plot(onset_env)\n",
    "plt.xlim(0, len(onset_env))\n",
    "\n",
    "onset_samples = librosa.onset.onset_detect(x,\n",
    "                                           sr=sr, units='samples', \n",
    "                                           hop_length=hop_length, \n",
    "                                           backtrack=False,\n",
    "                                           pre_max=20,\n",
    "                                           post_max=20,\n",
    "                                           pre_avg=100,\n",
    "                                           post_avg=100,\n",
    "                                           delta=0.2,\n",
    "                                           wait=0)\n",
    "\n",
    "onset_samples\n",
    "\n",
    "onset_boundaries = numpy.concatenate([[0], onset_samples, [len(x)]])\n",
    "\n",
    "print onset_boundaries\n",
    "\n",
    "onset_times = librosa.samples_to_time(onset_boundaries, sr=sr)\n",
    "\n",
    "onset_times\n",
    "\n",
    "librosa.display.waveplot(x, sr=sr)\n",
    "plt.vlines(onset_times, -1, 1, color='r')"
   ]
  },
  {
   "cell_type": "code",
   "execution_count": null,
   "metadata": {},
   "outputs": [],
   "source": [
    "def estimate_pitch(segment, sr, fmin=50.0, fmax=2000.0):\n",
    "    \n",
    "    # Compute autocorrelation of input segment.\n",
    "    r = librosa.autocorrelate(segment)\n",
    "    \n",
    "    # Define lower and upper limits for the autocorrelation argmax.\n",
    "    i_min = sr/fmax\n",
    "    i_max = sr/fmin\n",
    "    r[:int(i_min)] = 0\n",
    "    r[int(i_max):] = 0\n",
    "    \n",
    "    # Find the location of the maximum autocorrelation.\n",
    "    i = r.argmax()\n",
    "    f0 = float(sr)/i\n",
    "    return f0"
   ]
  },
  {
   "cell_type": "code",
   "execution_count": null,
   "metadata": {},
   "outputs": [],
   "source": [
    "def generate_sine(f0, sr, n_duration):\n",
    "    n = numpy.arange(n_duration)\n",
    "    return 0.2*numpy.sin(2*numpy.pi*f0*n/float(sr))"
   ]
  },
  {
   "cell_type": "code",
   "execution_count": null,
   "metadata": {},
   "outputs": [],
   "source": [
    "def estimate_pitch_and_generate_sine(x, onset_samples, i, sr):\n",
    "    n0 = onset_samples[i]\n",
    "    n1 = onset_samples[i+1]\n",
    "    f0 = estimate_pitch(x[n0:n1], sr)\n",
    "    return generate_sine(f0, sr, n1-n0)\n",
    "\n",
    "y = numpy.concatenate([\n",
    "    estimate_pitch_and_generate_sine(x, onset_boundaries, i, sr=sr)\n",
    "    for i in range(len(onset_boundaries)-1)\n",
    "])\n",
    "\n",
    "ipd.Audio(y, rate=sr)\n",
    "\n",
    "cqt = librosa.cqt(y, sr=sr)\n",
    "\n",
    "librosa.display.specshow(abs(cqt), sr=sr, x_axis='time', y_axis='cqt_note')"
   ]
  }
 ],
 "metadata": {
  "kernelspec": {
   "display_name": "Python 2",
   "language": "python",
   "name": "python2"
  },
  "language_info": {
   "codemirror_mode": {
    "name": "ipython",
    "version": 2
   },
   "file_extension": ".py",
   "mimetype": "text/x-python",
   "name": "python",
   "nbconvert_exporter": "python",
   "pygments_lexer": "ipython2",
   "version": "2.7.15rc1"
  }
 },
 "nbformat": 4,
 "nbformat_minor": 2
}
